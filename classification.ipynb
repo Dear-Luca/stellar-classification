{
 "cells": [
  {
   "cell_type": "markdown",
   "id": "a78ced53",
   "metadata": {},
   "source": [
    "# Classification model for Data Intensive course"
   ]
  },
  {
   "cell_type": "markdown",
   "id": "81555d49",
   "metadata": {},
   "source": [
    "1. **Descrizione del problema e analisi del dataset**: descrivere contesto e obiettivi del modello di classificazione, descrivere il dataset e le variabili contenute.."
   ]
  },
  {
   "cell_type": "markdown",
   "id": "97b2a926",
   "metadata": {},
   "source": [
    "2. **Caricamento e preparazione dei dati**: descrivere come i dati sono stati caricati e preparati per il modello, inclusi eventuali passaggi di pulizia o trasformazione dei dati. Descrivere le features."
   ]
  },
  {
   "cell_type": "markdown",
   "id": "7ddd10ad",
   "metadata": {},
   "source": [
    "3. **Analisi esplorativa delle features**: descrivere le principali caratteristiche del dataset, inclusi statistiche descrittive, distribuzioni e correlazioni tra le variabili. Commentare i risultati ottenuti."
   ]
  },
  {
   "cell_type": "markdown",
   "id": "cba46753",
   "metadata": {},
   "source": [
    "4. **Preparare i dati**: prepariamo i dati per l'addestramento del modello e facciamo preprocessing. Questo include la normalizzazione delle feature, la gestione dei valori mancanti e la suddivisione del dataset in set di addestramento e di test, eseguire eventuali operazioni di\n",
    "preprocessing come ad es. one-hot encoding di variabili categoriche e oversampling o undersampling in\n",
    "caso di classi sbilanciate."
   ]
  },
  {
   "cell_type": "markdown",
   "id": "a61077da",
   "metadata": {},
   "source": [
    "5. **Addestramento dei modelli**: addestriamo diversi modelli di classificazione sui dati preparati e valutiamo le loro prestazioni utilizzando metriche appropriate. (Testare due famiglie diverse di algoritmi)"
   ]
  },
  {
   "cell_type": "markdown",
   "id": "0fc23cad",
   "metadata": {},
   "source": [
    "6. **Analisi dei risultati**: analizziamo i risultati ottenuti dai modelli addestrati, confrontando le loro prestazioni e identificando il modello migliore per il nostro problema di classificazione."
   ]
  },
  {
   "cell_type": "markdown",
   "id": "f74fb1d1",
   "metadata": {},
   "source": [
    "7. **Ricerca degli iperparametri**: ottimizziamo gli iperparametri dei modelli utilizzando tecniche come la randomized search o la grid search per migliorare le loro prestazioni."
   ]
  },
  {
   "cell_type": "markdown",
   "id": "80dd1d57",
   "metadata": {},
   "source": [
    "8. **Conclusioni**: riassumiamo i risultati ottenuti e discutiamo le implicazioni del nostro lavoro, evidenziando i punti di forza e le limitazioni del modello di classificazione sviluppato."
   ]
  }
 ],
 "metadata": {
  "language_info": {
   "name": "python"
  }
 },
 "nbformat": 4,
 "nbformat_minor": 5
}
